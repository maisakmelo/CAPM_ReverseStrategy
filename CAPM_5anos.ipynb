{
 "cells": [
  {
   "cell_type": "markdown",
   "metadata": {},
   "source": [
    "# <center>CAPM numa abordagem reversa<center>"
   ]
  },
  {
   "cell_type": "code",
   "execution_count": 1,
   "metadata": {
    "id": "qRFiDW_xr2oP"
   },
   "outputs": [],
   "source": [
    "# Bibliotecas utilizadas\n",
    "import matplotlib.pyplot as plt\n",
    "import numpy as np\n",
    "import pandas as pd\n",
    "from scipy.optimize import Bounds\n",
    "from scipy.optimize import minimize\n",
    "import yfinance as yf\n",
    "from numpy.matrixlib.defmatrix import matrix\n",
    "import warnings\n",
    "warnings.filterwarnings(\"ignore\")"
   ]
  },
  {
   "cell_type": "code",
   "execution_count": 2,
   "metadata": {},
   "outputs": [],
   "source": [
    "ativos_sa = ['ALPA4.SA', 'ABEV3.SA', 'AMER3.SA', 'ARZZ3.SA', 'AZUL4.SA', 'B3SA3.SA', 'BPAN4.SA', 'BBSE3.SA', 'BRML3.SA',\n",
    "          'BBDC4.SA', 'BRAP4.SA', 'BBAS3.SA', 'BRKM5.SA', 'BRFS3.SA', 'BPAC11.SA', 'CRFB3.SA', 'CCRO3.SA', 'CMIG4.SA',\n",
    "          'CIEL3.SA', 'COGN3.SA', 'CPLE6.SA', 'CSAN3.SA', 'CPFE3.SA', 'CVCB3.SA', 'CYRE3.SA', 'DXCO3.SA', 'ECOR3.SA',\n",
    "          'ELET3.SA', 'ELET6.SA', 'EMBR3.SA', 'ENBR3.SA', 'ENGI11.SA', 'ENEV3.SA', 'EGIE3.SA', 'EQTL3.SA', 'EZTC3.SA',\n",
    "          'FLRY3.SA', 'GGBR4.SA', 'GOAU4.SA', 'GOLL4.SA', 'NTCO3.SA', 'HYPE3.SA', 'IGTI11.SA', 'IRBR3.SA', 'ITSA4.SA',\n",
    "          'ITUB4.SA', 'JBSS3.SA', 'KLBN11.SA', 'RENT3.SA', 'LREN3.SA', 'MGLU3.SA', 'MRFG3.SA', 'BEEF3.SA', 'MRVE3.SA',\n",
    "          'MULT3.SA', 'PCAR3.SA', 'PETR3.SA', 'PETR4.SA', 'PRIO3.SA', 'POSI3.SA', 'QUAL3.SA', 'RADL3.SA', 'RAIL3.SA',\n",
    "          'SBSP3.SA', 'SANB11.SA', 'SMTO3.SA', 'CSNA3.SA', 'SLCE3.SA', 'SULA11.SA', 'SUZB3.SA', 'TAEE11.SA', 'VIVT3.SA',\n",
    "          'TIMS3.SA', 'TOTS3.SA', 'UGPA3.SA', 'USIM5.SA', 'VALE3.SA', 'VIIA3.SA', 'WEGE3.SA', 'YDUQ3.SA']\n",
    "QTD_ASSETS = len(ativos_sa)"
   ]
  },
  {
   "cell_type": "code",
   "execution_count": 3,
   "metadata": {},
   "outputs": [],
   "source": [
    "data_inicial = '2017-09-29'\n",
    "data_final = '2022-09-29'"
   ]
  },
  {
   "cell_type": "markdown",
   "metadata": {},
   "source": [
    "### <center>Valor de Mercado<center>\n",
    "    \n",
    "- O peso de cada ativo na composição do portfólio é dado com base no seu valor de mercado.\n",
    "- É considerada a série histórica de valor de mercado de cada ativo no período definido entre a data inicial e a data final.\n",
    "- O valor de mercado considerado é a média da série histórica.\n",
    "- O peso da composição do portfólio é o vetor de valor de mercado normalizado.\n",
    "- O vetor com os pesos é denominado xm.    "
   ]
  },
  {
   "cell_type": "code",
   "execution_count": 4,
   "metadata": {},
   "outputs": [],
   "source": [
    "#Valor de mercado dos ativos\n",
    "df_mktcap = pd.read_excel('Valor_de_mercado.xlsx', sheet_name=['5anos'],index_col = 0)\n",
    "df_mktcap=df_mktcap['5anos']\n",
    "df_mktcap.loc[data_inicial:data_final]\n",
    "mktcap = df_mktcap.loc[data_inicial:data_final].mean()\n",
    "xm = mktcap/sum(mktcap)\n",
    "xm_matriz = matrix(xm)"
   ]
  },
  {
   "cell_type": "markdown",
   "metadata": {},
   "source": [
    "### <center>Ativo livre de risco<center>\n",
    "    \n",
    "- A Selic é considerada o ativo livre de risco.\n",
    "- A série histórica com valores anuais para a Selic é obtida da API do Banco Central.\n",
    "- É considerada a média da Selic no período compreendido entre a data inicial e a data final e em seguida é realizada a conversão do valor anual para o valor mensal.    "
   ]
  },
  {
   "cell_type": "code",
   "execution_count": 5,
   "metadata": {
    "id": "B6N6mrEYu8TF"
   },
   "outputs": [],
   "source": [
    "# Obtém informações do ativo livre de risco\n",
    "def consulta_bc(codigo_bcb):\n",
    "    url = 'http://api.bcb.gov.br/dados/serie/bcdata.sgs.{}/dados?formato=json'.format(codigo_bcb)\n",
    "    df = pd.read_json(url)\n",
    "    df['data'] = pd.to_datetime(df['data'], dayfirst=True)\n",
    "    df.set_index('data', inplace=True)\n",
    "    return df\n",
    "\n",
    "selic = consulta_bc(432) #puxa base histórica\n",
    "selic = selic/100\n",
    "selic = selic.loc[data_inicial:data_final] #utiliza apenas as datas do dataframe\n",
    "selic.rename({'valor': 'Selic'}, axis=1, inplace=True)"
   ]
  },
  {
   "cell_type": "code",
   "execution_count": 6,
   "metadata": {},
   "outputs": [
    {
     "data": {
      "text/plain": [
       "0.062022441160372435"
      ]
     },
     "execution_count": 6,
     "metadata": {},
     "output_type": "execute_result"
    }
   ],
   "source": [
    "selic.mean().values[0]"
   ]
  },
  {
   "cell_type": "code",
   "execution_count": 7,
   "metadata": {
    "id": "IhjpQ8YNk7to"
   },
   "outputs": [],
   "source": [
    "MEDIA_SELIC = (1 + selic.mean().values[0])**(1/12)-1\n",
    "#Pegar a média da selic durante o período estudado. Importante, esta taxa deve estar na mesma unidade dos dados\n",
    "#se você estiver trabalhando com retornos mensais, então a selic deve ser dada como retorno mensal, ela vem do banco central como\n",
    "#anual, então tem que fazer a conversão. No material que te passei do curso tem uma função que faz a conversão"
   ]
  },
  {
   "cell_type": "code",
   "execution_count": 8,
   "metadata": {
    "id": "bD0eNKyVr2oU"
   },
   "outputs": [],
   "source": [
    "RZ = MEDIA_SELIC*np.ones(QTD_ASSETS) #vetor utilizado na função objetivo"
   ]
  },
  {
   "cell_type": "code",
   "execution_count": 9,
   "metadata": {},
   "outputs": [
    {
     "data": {
      "text/plain": [
       "0.005027181890720822"
      ]
     },
     "execution_count": 9,
     "metadata": {},
     "output_type": "execute_result"
    }
   ],
   "source": [
    "MEDIA_SELIC"
   ]
  },
  {
   "cell_type": "markdown",
   "metadata": {},
   "source": [
    "### <center>Série histórica dos retornos dos ativos<center>"
   ]
  },
  {
   "cell_type": "code",
   "execution_count": 56,
   "metadata": {
    "colab": {
     "base_uri": "https://localhost:8080/",
     "height": 435
    },
    "id": "xKJ7NMFUyE-1",
    "outputId": "a99a72e9-57f3-4c50-ca45-e0758af6f197"
   },
   "outputs": [
    {
     "name": "stdout",
     "output_type": "stream",
     "text": [
      "[*********************100%***********************]  80 of 80 completed\n"
     ]
    }
   ],
   "source": [
    "preco_ativos = yf.download(tickers=ativos_sa, start=data_inicial, end=data_final, rounding=True)['Adj Close']\n",
    "retornos_diarios = preco_ativos.pct_change()\n",
    "retornos_diarios.columns = retornos_diarios.columns.str.rstrip('.SA') \n",
    "retornos_diarios.reset_index(inplace=True)\n",
    "retornos_diarios=retornos_diarios[1:]"
   ]
  },
  {
   "cell_type": "code",
   "execution_count": 11,
   "metadata": {},
   "outputs": [],
   "source": [
    "ativos = retornos_diarios.columns[1:].tolist()"
   ]
  },
  {
   "cell_type": "code",
   "execution_count": 12,
   "metadata": {},
   "outputs": [],
   "source": [
    "retornos_mensais = retornos_diarios.set_index('Date').resample('M')[ativos].sum()"
   ]
  },
  {
   "cell_type": "code",
   "execution_count": 55,
   "metadata": {},
   "outputs": [],
   "source": [
    "import xlsxwriter\n",
    "writer_portfolio = pd.ExcelWriter('serie_historica_retornos.xlsx', engine='xlsxwriter')\n",
    "retornos_mensais.to_excel(writer_portfolio, index=True, sheet_name='5 anos')\n",
    "writer_portfolio.save()"
   ]
  },
  {
   "cell_type": "code",
   "execution_count": 13,
   "metadata": {
    "colab": {
     "base_uri": "https://localhost:8080/",
     "height": 488
    },
    "id": "85bDlyaRr2oX",
    "outputId": "3e37ed74-6217-405d-ba54-5cb78488031d"
   },
   "outputs": [],
   "source": [
    "CORR = retornos_mensais.corr() #matriz de correlação dos retornos dos ativos"
   ]
  },
  {
   "cell_type": "markdown",
   "metadata": {},
   "source": [
    "# <center>Funções Retorno e Risco<center>"
   ]
  },
  {
   "cell_type": "code",
   "execution_count": 14,
   "metadata": {},
   "outputs": [],
   "source": [
    "def risco_fronteira(desvio):\n",
    "    return ((np.diag(desvio).dot(CORR)).dot(np.diag(desvio))).dot(xm)"
   ]
  },
  {
   "cell_type": "code",
   "execution_count": 15,
   "metadata": {},
   "outputs": [],
   "source": [
    "def retorno_fronteira(media_retorno):\n",
    "    return media_retorno*xm"
   ]
  },
  {
   "cell_type": "code",
   "execution_count": 16,
   "metadata": {},
   "outputs": [],
   "source": [
    "def risco_proxy_mercado(risco_fronteira):\n",
    "    return xm.dot(risco_fronteira)"
   ]
  },
  {
   "cell_type": "code",
   "execution_count": 17,
   "metadata": {},
   "outputs": [],
   "source": [
    "def retorno_proxy_mercado(retorno_fronteira):\n",
    "    return sum(retorno_fronteira)"
   ]
  },
  {
   "cell_type": "markdown",
   "metadata": {},
   "source": [
    "# <center>Retorno e Risco - Dados amostrais<center>"
   ]
  },
  {
   "cell_type": "code",
   "execution_count": 18,
   "metadata": {
    "id": "57V1r4MFa33g"
   },
   "outputs": [],
   "source": [
    "M_amostra = retornos_mensais.mean().values\n",
    "D_amostra = retornos_mensais.std().values"
   ]
  },
  {
   "cell_type": "markdown",
   "metadata": {
    "id": "9-OnwYv1OtxB"
   },
   "source": [
    "# <center> Fronteira de Pareto -- dados amostrais<center>"
   ]
  },
  {
   "cell_type": "code",
   "execution_count": 19,
   "metadata": {},
   "outputs": [
    {
     "data": {
      "text/plain": [
       "array([0.0035883 , 0.00406712, 0.00577193, 0.00492698, 0.00931673])"
      ]
     },
     "execution_count": 19,
     "metadata": {},
     "output_type": "execute_result"
    }
   ],
   "source": [
    "risco_fronteira_amostra = risco_fronteira(D_amostra)\n",
    "risco_fronteira_amostra[:5]"
   ]
  },
  {
   "cell_type": "code",
   "execution_count": 20,
   "metadata": {},
   "outputs": [
    {
     "data": {
      "text/plain": [
       "ABEV3    0.000100\n",
       "ALPA4    0.000070\n",
       "AMER3    0.000097\n",
       "ARZZ3    0.000031\n",
       "AZUL4    0.000025\n",
       "           ...   \n",
       "VALE3    0.002204\n",
       "VIIA3    0.000011\n",
       "VIVT3    0.000185\n",
       "WEGE3    0.000702\n",
       "YDUQ3    0.000004\n",
       "Length: 80, dtype: float64"
      ]
     },
     "execution_count": 20,
     "metadata": {},
     "output_type": "execute_result"
    }
   ],
   "source": [
    "retorno_fronteira_amostra = M_amostra*xm\n",
    "retorno_fronteira_amostra"
   ]
  },
  {
   "cell_type": "markdown",
   "metadata": {},
   "source": [
    "# <center> Proxy da carteira de mercado -- dados amostrais <center>"
   ]
  },
  {
   "cell_type": "code",
   "execution_count": 21,
   "metadata": {},
   "outputs": [
    {
     "data": {
      "text/plain": [
       "0.0049879305451686964"
      ]
     },
     "execution_count": 21,
     "metadata": {},
     "output_type": "execute_result"
    }
   ],
   "source": [
    "risco_portfolio_amostra = risco_proxy_mercado(risco_fronteira_amostra)\n",
    "risco_portfolio_amostra"
   ]
  },
  {
   "cell_type": "code",
   "execution_count": 22,
   "metadata": {},
   "outputs": [
    {
     "data": {
      "text/plain": [
       "0.017478123215600234"
      ]
     },
     "execution_count": 22,
     "metadata": {},
     "output_type": "execute_result"
    }
   ],
   "source": [
    "retorno_portfolio_amostra = retorno_proxy_mercado(retorno_fronteira_amostra)\n",
    "retorno_portfolio_amostra"
   ]
  },
  {
   "cell_type": "markdown",
   "metadata": {},
   "source": [
    "# <center> Retorno e Risco - Dados ajustados <center>"
   ]
  },
  {
   "cell_type": "markdown",
   "metadata": {},
   "source": [
    "# <center>Solução inicial<center>"
   ]
  },
  {
   "cell_type": "code",
   "execution_count": 23,
   "metadata": {},
   "outputs": [],
   "source": [
    "retorno_aleatorio = pd.Series(np.random.uniform(M_amostra.min(),M_amostra.max(),QTD_ASSETS))\n",
    "risco_aleatorio = pd.Series(np.random.uniform(D_amostra.min(),D_amostra.max(),QTD_ASSETS))\n",
    "X0 = np.array(pd.concat([retorno_aleatorio, risco_aleatorio], axis = 0))"
   ]
  },
  {
   "cell_type": "markdown",
   "metadata": {},
   "source": [
    "# <center>Parâmetros do problema<center>"
   ]
  },
  {
   "cell_type": "code",
   "execution_count": 24,
   "metadata": {
    "id": "42ZI0mI4r2oT"
   },
   "outputs": [],
   "source": [
    "#Parâmetros globais\n",
    "ALPHA = 0.75 #foi fornecido pelos autores\n",
    "q = 0.001"
   ]
  },
  {
   "cell_type": "markdown",
   "metadata": {},
   "source": [
    "# <center>Restrições<center>\n",
    "    \n",
    "\n",
    "$$\\left[\\begin{array}{ccccc}\n",
    "\\sigma_1 & 0 & \\cdots & 0 & 0 \\\\ \n",
    "0 & \\sigma_2 & \\cdots & 0 & 0 \\\\ \n",
    "\\vdots & \\vdots & \\ddots & \\vdots & \\vdots \\\\ \n",
    "0 & 0 & \\cdots & \\sigma_{n-1} & 0 \\\\ \n",
    "0 & 0 & \\cdots & 0 & \\sigma_n\n",
    "\\end{array} \\right]\\times\\left[\\begin{array}{cccc}\n",
    "\\rho_{1,1} & \\rho_{1,2} & \\cdots &  \\rho_{1,n} \\\\ \n",
    "\\rho_{2,1} & \\rho_{2,2} & \\cdots &  \\rho_{2,n} \\\\ \n",
    "\\vdots & \\vdots & \\ddots &  \\vdots \\\\ \n",
    "\\rho_{n-1,1} & \\rho_{n-1,2} & \\cdots &  \\rho_{n-1,n} \\\\ \n",
    "\\rho_{n,1} & \\rho_{n,2} & \\cdots & \\rho_{n,n} \\\\\n",
    "\\end{array}\\right]\\times \\left[\\begin{array}{ccccc}\n",
    "\\sigma_1 & 0 & \\cdots & 0 & 0 \\\\ \n",
    "0 & \\sigma_2 & \\cdots & 0 & 0 \\\\ \n",
    "\\vdots & \\vdots & \\ddots & \\vdots & \\vdots \\\\ \n",
    "0 & 0 & \\cdots & \\sigma_{n-1} & 0 \\\\ \n",
    "0 & 0 & \\cdots & 0 & \\sigma_n\n",
    "\\end{array} \\right]\\times\\left[\\begin{array}{c}\n",
    "x_{m_1} \\\\ \n",
    "x_{m_2} \\\\ \n",
    "\\vdots \\\\ \n",
    "x_{m_(n-1)} \\\\ \n",
    "x_{m_n}\n",
    "\\end{array} \\right]=q\\left[\\begin{array}{c}\n",
    "\\mu_1-rz \\\\ \n",
    "\\mu_2-rz \\\\ \n",
    "\\vdots \\\\ \n",
    "\\mu_{n-1}-rz \\\\ \n",
    "\\mu_n-rz\n",
    "\\end{array} \\right]$$\n",
    "\n"
   ]
  },
  {
   "cell_type": "code",
   "execution_count": 25,
   "metadata": {
    "id": "xh_ajTDAr2oc"
   },
   "outputs": [],
   "source": [
    "def constraint_eq(x):\n",
    "    desvio = x[QTD_ASSETS:]\n",
    "    media = x[:QTD_ASSETS]\n",
    "    return (((np.diag(desvio)).dot(CORR)).dot(np.diag(desvio))).dot(xm)-q*(media-RZ)"
   ]
  },
  {
   "cell_type": "markdown",
   "metadata": {},
   "source": [
    "# <center>Variável x:<center>\n",
    "<center>- x[:QTD_ASSETS] $\\rightarrow$ média<center>\n",
    "<center>- x[QTD_ASSETS:] $\\rightarrow$ desvio<center>"
   ]
  },
  {
   "cell_type": "code",
   "execution_count": 26,
   "metadata": {},
   "outputs": [],
   "source": [
    "#Definição dos limites inferiores e superiores das variáveis\n",
    "limites_inferiores = np.append(0*np.ones(QTD_ASSETS),D_amostra.min()*np.ones(QTD_ASSETS))\n",
    "limites_superiores = np.append(M_amostra.max()*np.ones(QTD_ASSETS),D_amostra.max()*np.ones(QTD_ASSETS))\n",
    "bnds = Bounds(limites_inferiores, limites_superiores)"
   ]
  },
  {
   "cell_type": "markdown",
   "metadata": {},
   "source": [
    "### <center>Função objetivo<center>\n",
    "    \n",
    "$$D((\\mu,\\sigma),(\\mu^{amostra},\\sigma^{amostra}))=\\sqrt{\\alpha\\frac{1}{n}\\displaystyle\\sum_{i=1}^n\\left(\\dfrac{\\mu_i-\\mu_i^{amostra}}{\\sigma_i^{amostra}}\\right)^2+(1-\\alpha)\\frac{1}{n}\\displaystyle\\sum_{i=1}^n\\left(\\dfrac{\\sigma_i-\\sigma_i^{amostra}}{\\sigma_i^{amostra}}\\right)^2}$$    "
   ]
  },
  {
   "cell_type": "code",
   "execution_count": 27,
   "metadata": {
    "id": "qTbh8-cgr2od"
   },
   "outputs": [],
   "source": [
    "def objective(x):\n",
    "    parcela_retorno = sum(((x[:QTD_ASSETS]-M_amostra)/D_amostra)**2)\n",
    "    parcela_risco = sum(((x[QTD_ASSETS:]-D_amostra)/D_amostra)**2)\n",
    "    soma = ALPHA*(1/QTD_ASSETS)*parcela_retorno+(1-ALPHA)*(1/QTD_ASSETS)*parcela_risco\n",
    "    return np.sqrt(soma)"
   ]
  },
  {
   "cell_type": "markdown",
   "metadata": {},
   "source": [
    "### <center>Algoritmo de otimização<center>"
   ]
  },
  {
   "cell_type": "code",
   "execution_count": 28,
   "metadata": {},
   "outputs": [
    {
     "name": "stdout",
     "output_type": "stream",
     "text": [
      "Positive directional derivative for linesearch    (Exit mode 8)\n",
      "            Current function value: 0.49802528295362547\n",
      "            Iterations: 27\n",
      "            Function evaluations: 3838\n",
      "            Gradient evaluations: 23\n"
     ]
    }
   ],
   "source": [
    "#Aqui você está minizando a função objetivo dada no artigo e definida pela função objective obecendo às restrições dadas no artigo\n",
    "#e definidas na função constraint_eq, note que aqui só estamos trabalhando com restrições de desigualdade\n",
    "#Você está utilizando o método de otimização SLSQP. A forma como está definida é a maneira mais simples de resolver este problema\n",
    "solution = minimize(objective,X0,method='SLSQP', bounds=bnds,constraints={'type': 'eq', 'fun': constraint_eq},options={'ftol': 1e-15, 'disp': True})"
   ]
  },
  {
   "cell_type": "code",
   "execution_count": 29,
   "metadata": {
    "id": "x-j0CoQxr2of"
   },
   "outputs": [
    {
     "data": {
      "text/plain": [
       "array([0.00000000e+00, 5.67875703e-11, 1.11298367e-10, 0.00000000e+00,\n",
       "       0.00000000e+00])"
      ]
     },
     "execution_count": 29,
     "metadata": {},
     "output_type": "execute_result"
    }
   ],
   "source": [
    "MediaOtima = solution.x[:QTD_ASSETS]\n",
    "MediaOtima[:5]"
   ]
  },
  {
   "cell_type": "code",
   "execution_count": 30,
   "metadata": {},
   "outputs": [
    {
     "data": {
      "text/plain": [
       "array([0.09401325, 0.19712567, 0.04497376, 0.14372224, 0.21224715])"
      ]
     },
     "execution_count": 30,
     "metadata": {},
     "output_type": "execute_result"
    }
   ],
   "source": [
    "DesvioOtimo = solution.x[QTD_ASSETS:]\n",
    "DesvioOtimo[:5]"
   ]
  },
  {
   "cell_type": "markdown",
   "metadata": {},
   "source": [
    "### <center>Fronteira de Pareto - dados ajustados<center>"
   ]
  },
  {
   "cell_type": "code",
   "execution_count": 31,
   "metadata": {},
   "outputs": [
    {
     "data": {
      "text/plain": [
       "ABEV3    0.000000e+00\n",
       "ALPA4    2.199080e-13\n",
       "AMER3    7.873143e-13\n",
       "ARZZ3    0.000000e+00\n",
       "AZUL4    0.000000e+00\n",
       "dtype: float64"
      ]
     },
     "execution_count": 31,
     "metadata": {},
     "output_type": "execute_result"
    }
   ],
   "source": [
    "retorno_fronteira_ajustado = retorno_fronteira(MediaOtima)\n",
    "retorno_fronteira_ajustado[:5]"
   ]
  },
  {
   "cell_type": "code",
   "execution_count": 32,
   "metadata": {},
   "outputs": [
    {
     "data": {
      "text/plain": [
       "array([0.00496596, 0.00776326, 0.0018302 , 0.00787941, 0.01271499])"
      ]
     },
     "execution_count": 32,
     "metadata": {},
     "output_type": "execute_result"
    }
   ],
   "source": [
    "risco_fronteira_ajustado = risco_fronteira(DesvioOtimo)\n",
    "risco_fronteira_ajustado[:5]"
   ]
  },
  {
   "cell_type": "markdown",
   "metadata": {
    "id": "X-8Jd6CSPTRZ"
   },
   "source": [
    "### <center>Proxy da carteira de mercado - dados ajustados<center>"
   ]
  },
  {
   "cell_type": "code",
   "execution_count": 33,
   "metadata": {},
   "outputs": [
    {
     "data": {
      "text/plain": [
       "0.006874419232368998"
      ]
     },
     "execution_count": 33,
     "metadata": {},
     "output_type": "execute_result"
    }
   ],
   "source": [
    "risco_portfolio_ajustado = risco_proxy_mercado(risco_fronteira_ajustado)\n",
    "risco_portfolio_ajustado"
   ]
  },
  {
   "cell_type": "code",
   "execution_count": 34,
   "metadata": {},
   "outputs": [
    {
     "data": {
      "text/plain": [
       "0.0005997689283076957"
      ]
     },
     "execution_count": 34,
     "metadata": {},
     "output_type": "execute_result"
    }
   ],
   "source": [
    "retorno_portfolio_ajustado = retorno_proxy_mercado(retorno_fronteira_ajustado)\n",
    "retorno_portfolio_ajustado"
   ]
  },
  {
   "cell_type": "markdown",
   "metadata": {},
   "source": [
    "# <center>Gráfico Fronteira de Pareto<center>"
   ]
  },
  {
   "cell_type": "code",
   "execution_count": 35,
   "metadata": {
    "colab": {
     "base_uri": "https://localhost:8080/",
     "height": 398
    },
    "id": "q0l0IiecQbud",
    "outputId": "49ab2c98-6e38-4b2c-814a-26afffbe1d24"
   },
   "outputs": [
    {
     "data": {
      "image/png": "[encoded data removed]",
      "text/plain": [
       "<Figure size 864x432 with 1 Axes>"
      ]
     },
     "metadata": {
      "needs_background": "light"
     },
     "output_type": "display_data"
    }
   ],
   "source": [
    "from numpy.core import multiarray\n",
    "gráfico = plt.figure(figsize = (12,6))\n",
    "plt.scatter(risco_fronteira_amostra,retorno_fronteira_amostra,marker='D',s=50,c=\"m\",label='Amostrais')\n",
    "plt.scatter(risco_fronteira_ajustado,retorno_fronteira_ajustado,marker='D',s=50,c=\"b\",label='Ajustados')\n",
    "plt.scatter(risco_portfolio_amostra,retorno_portfolio_amostra,marker='*',s=700,c=\"g\",label='Proxy amostral')\n",
    "plt.scatter(risco_portfolio_ajustado,retorno_portfolio_ajustado,marker='*',s=500,c=\"y\",label='Proxy ajustado')\n",
    "plt.xlabel('Risco', fontsize=20)\n",
    "plt.ylabel('Retorno', fontsize=20)\n",
    "plt.yticks(fontsize=15)\n",
    "plt.xticks(fontsize=15)\n",
    "legend = plt.legend(loc='upper right', shadow=True, fontsize=10, ncol = 2)\n",
    "#plt.axis([0.00005, 0.00033, 0.0024, 0.0065]) # [xmin, xmax, ymin, ymax]\n",
    "plt.show()"
   ]
  },
  {
   "cell_type": "markdown",
   "metadata": {},
   "source": [
    "# <center>Cálculo do Beta<center>"
   ]
  },
  {
   "cell_type": "code",
   "execution_count": 36,
   "metadata": {},
   "outputs": [],
   "source": [
    "def calcula_beta(desvio):\n",
    "    beta = np.zeros(QTD_ASSETS)\n",
    "    denominador = (xm.dot((np.diag(desvio).dot(CORR)).dot(np.diag(desvio)))).dot(xm)\n",
    "    for ativo in range(QTD_ASSETS):\n",
    "        numerador = sum([xm.values[pos]*desvio[ativo]*desvio[pos]*CORR.iloc[ativo,pos] for pos in range(QTD_ASSETS)])\n",
    "        beta[ativo] = numerador/denominador\n",
    "    return beta    \n",
    "\n",
    "beta_amostral = calcula_beta(D_amostra)\n",
    "beta_ajustado = calcula_beta(DesvioOtimo)"
   ]
  },
  {
   "cell_type": "markdown",
   "metadata": {},
   "source": [
    "# <center>Teste de Normalidade<center>"
   ]
  },
  {
   "cell_type": "code",
   "execution_count": 37,
   "metadata": {},
   "outputs": [],
   "source": [
    "from scipy.stats import normaltest\n",
    "import seaborn as sns\n",
    "from scipy import stats"
   ]
  },
  {
   "cell_type": "code",
   "execution_count": 38,
   "metadata": {},
   "outputs": [],
   "source": [
    "# Teste 1\n",
    "ALPHA = 0.05\n",
    "def calcula_shapiro(vetor):\n",
    "    sns.distplot(a=vetor, hist=True)\n",
    "    p_shapiro = stats.shapiro(vetor).pvalue\n",
    "\n",
    "    #Hipotese nula: Os dados seguem distribuição normal\n",
    "    #Hipotese alternativa: Os dados não seguem distribuição normal\n",
    "\n",
    "    if p_shapiro < ALPHA:\n",
    "        print(f'p-valor:{round(p_shapiro,2)} - A Hipótese Nula pode ser rejeitada - os dados não são normais')\n",
    "    else:\n",
    "        print(f'p-valor:{round(p_shapiro,2)} -A hipótese nula não pode ser rejeitada - não é possível afirmar que os dados não são normais')\n",
    "    return     "
   ]
  },
  {
   "cell_type": "markdown",
   "metadata": {},
   "source": [
    "## <center>Testando normalidade do Beta Amostral<center>"
   ]
  },
  {
   "cell_type": "code",
   "execution_count": 39,
   "metadata": {},
   "outputs": [
    {
     "name": "stdout",
     "output_type": "stream",
     "text": [
      "p-valor:0.33 -A hipótese nula não pode ser rejeitada - não é possível afirmar que os dados não são normais\n"
     ]
    },
    {
     "data": {
      "image/png": "[encoded data removed]",
      "text/plain": [
       "<Figure size 432x288 with 1 Axes>"
      ]
     },
     "metadata": {
      "needs_background": "light"
     },
     "output_type": "display_data"
    }
   ],
   "source": [
    "calcula_shapiro(beta_amostral)"
   ]
  },
  {
   "cell_type": "markdown",
   "metadata": {},
   "source": [
    "## <center>Testando normalidade do Beta Ajustado<center>"
   ]
  },
  {
   "cell_type": "code",
   "execution_count": 40,
   "metadata": {},
   "outputs": [
    {
     "name": "stdout",
     "output_type": "stream",
     "text": [
      "p-valor:0.01 - A Hipótese Nula pode ser rejeitada - os dados não são normais\n"
     ]
    },
    {
     "data": {
      "image/png": "[encoded data removed]",
      "text/plain": [
       "<Figure size 432x288 with 1 Axes>"
      ]
     },
     "metadata": {
      "needs_background": "light"
     },
     "output_type": "display_data"
    }
   ],
   "source": [
    "calcula_shapiro(beta_ajustado)"
   ]
  },
  {
   "cell_type": "markdown",
   "metadata": {},
   "source": [
    "## <center>Testando normalidade - Risco fronteira ajustado<center>"
   ]
  },
  {
   "cell_type": "code",
   "execution_count": 41,
   "metadata": {},
   "outputs": [
    {
     "name": "stdout",
     "output_type": "stream",
     "text": [
      "p-valor:0.01 - A Hipótese Nula pode ser rejeitada - os dados não são normais\n"
     ]
    },
    {
     "data": {
      "image/png": "[encoded data removed]",
      "text/plain": [
       "<Figure size 432x288 with 1 Axes>"
      ]
     },
     "metadata": {
      "needs_background": "light"
     },
     "output_type": "display_data"
    }
   ],
   "source": [
    "calcula_shapiro(risco_fronteira_ajustado)"
   ]
  },
  {
   "cell_type": "markdown",
   "metadata": {},
   "source": [
    "## <center>Testando normalidade - Risco fronteira amostral<center>"
   ]
  },
  {
   "cell_type": "code",
   "execution_count": 42,
   "metadata": {},
   "outputs": [
    {
     "name": "stdout",
     "output_type": "stream",
     "text": [
      "p-valor:0.33 -A hipótese nula não pode ser rejeitada - não é possível afirmar que os dados não são normais\n"
     ]
    },
    {
     "data": {
      "image/png": "[encoded data removed]",
      "text/plain": [
       "<Figure size 432x288 with 1 Axes>"
      ]
     },
     "metadata": {
      "needs_background": "light"
     },
     "output_type": "display_data"
    }
   ],
   "source": [
    "calcula_shapiro(risco_fronteira_amostra)"
   ]
  },
  {
   "cell_type": "markdown",
   "metadata": {},
   "source": [
    "## <center>Testando normalidade - Retorno fronteira amostral<center>"
   ]
  },
  {
   "cell_type": "code",
   "execution_count": 43,
   "metadata": {},
   "outputs": [
    {
     "name": "stdout",
     "output_type": "stream",
     "text": [
      "p-valor:0.0 - A Hipótese Nula pode ser rejeitada - os dados não são normais\n"
     ]
    },
    {
     "data": {
      "image/png": "[encoded data removed]",
      "text/plain": [
       "<Figure size 432x288 with 1 Axes>"
      ]
     },
     "metadata": {
      "needs_background": "light"
     },
     "output_type": "display_data"
    }
   ],
   "source": [
    "calcula_shapiro(retorno_fronteira_amostra)"
   ]
  },
  {
   "cell_type": "markdown",
   "metadata": {},
   "source": [
    "## <center>Testando normalidade - Retorno fronteira ajustado<center>"
   ]
  },
  {
   "cell_type": "code",
   "execution_count": 44,
   "metadata": {},
   "outputs": [
    {
     "name": "stdout",
     "output_type": "stream",
     "text": [
      "p-valor:0.0 - A Hipótese Nula pode ser rejeitada - os dados não são normais\n"
     ]
    },
    {
     "data": {
      "image/png": "[encoded data removed]",
      "text/plain": [
       "<Figure size 432x288 with 1 Axes>"
      ]
     },
     "metadata": {
      "needs_background": "light"
     },
     "output_type": "display_data"
    }
   ],
   "source": [
    "calcula_shapiro(retorno_fronteira_ajustado)"
   ]
  },
  {
   "cell_type": "markdown",
   "metadata": {},
   "source": [
    "# <center>Testes de comparação<center>"
   ]
  },
  {
   "cell_type": "markdown",
   "metadata": {},
   "source": [
    "Os testes wilcoxon e mannwhitneyu são utilizados quando os dados não são normais"
   ]
  },
  {
   "cell_type": "code",
   "execution_count": 45,
   "metadata": {},
   "outputs": [],
   "source": [
    "from scipy.stats import wilcoxon\n",
    "from scipy.stats import mannwhitneyu"
   ]
  },
  {
   "cell_type": "code",
   "execution_count": 46,
   "metadata": {},
   "outputs": [],
   "source": [
    "def calcula_wilcoxon(vetor1,vetor2):\n",
    "    res_retorno = wilcoxon(vetor1,vetor2)\n",
    "    p_wilcoxon = res_retorno.pvalue\n",
    "    if p_wilcoxon < ALPHA:\n",
    "        print(f'p-valor:{round(p_wilcoxon,2)} - A Hipótese Nula pode ser rejeitada - os dados não são iguais')\n",
    "    else:\n",
    "        print(f'p-valor:{round(p_wilcoxon,2)} -A hipótese nula não pode ser rejeitada - não é possível afirmar que os dados não são iguais')\n",
    "    return     "
   ]
  },
  {
   "cell_type": "code",
   "execution_count": 47,
   "metadata": {},
   "outputs": [],
   "source": [
    "def calcula_mannwhitneyu(vetor1,vetor2):\n",
    "    res_retorno = mannwhitneyu(vetor1,vetor2)\n",
    "    p_mannwhitneyu = res_retorno.pvalue\n",
    "    if p_mannwhitneyu < ALPHA:\n",
    "        print(f'p-valor:{round(p_mannwhitneyu,2)} - A Hipótese Nula pode ser rejeitada - os dados não são iguais')\n",
    "    else:\n",
    "        print(f'p-valor:{round(p_mannwhitneyu,2)} -A hipótese nula não pode ser rejeitada - não é possível afirmar que os dados não são iguais')\n",
    "    return     "
   ]
  },
  {
   "cell_type": "markdown",
   "metadata": {},
   "source": [
    "## <center>Teste comparação - Retorno<center>"
   ]
  },
  {
   "cell_type": "code",
   "execution_count": 48,
   "metadata": {},
   "outputs": [
    {
     "name": "stdout",
     "output_type": "stream",
     "text": [
      "p-valor:0.0 - A Hipótese Nula pode ser rejeitada - os dados não são iguais\n"
     ]
    }
   ],
   "source": [
    "calcula_wilcoxon(retorno_fronteira_amostra,retorno_fronteira_ajustado)"
   ]
  },
  {
   "cell_type": "code",
   "execution_count": 49,
   "metadata": {},
   "outputs": [
    {
     "name": "stdout",
     "output_type": "stream",
     "text": [
      "p-valor:0.0 - A Hipótese Nula pode ser rejeitada - os dados não são iguais\n"
     ]
    }
   ],
   "source": [
    "calcula_mannwhitneyu(retorno_fronteira_amostra,retorno_fronteira_ajustado)"
   ]
  },
  {
   "cell_type": "markdown",
   "metadata": {},
   "source": [
    "# <center>Teste comparação - Risco<center>"
   ]
  },
  {
   "cell_type": "code",
   "execution_count": 50,
   "metadata": {},
   "outputs": [
    {
     "name": "stdout",
     "output_type": "stream",
     "text": [
      "p-valor:0.0 - A Hipótese Nula pode ser rejeitada - os dados não são iguais\n"
     ]
    }
   ],
   "source": [
    "calcula_wilcoxon(risco_fronteira_amostra,risco_fronteira_ajustado)"
   ]
  },
  {
   "cell_type": "code",
   "execution_count": 51,
   "metadata": {},
   "outputs": [
    {
     "name": "stdout",
     "output_type": "stream",
     "text": [
      "p-valor:0.01 - A Hipótese Nula pode ser rejeitada - os dados não são iguais\n"
     ]
    }
   ],
   "source": [
    "calcula_mannwhitneyu(risco_fronteira_amostra,risco_fronteira_ajustado)"
   ]
  },
  {
   "cell_type": "markdown",
   "metadata": {},
   "source": [
    "# <center>Teste comparação - Betas<center>"
   ]
  },
  {
   "cell_type": "code",
   "execution_count": 52,
   "metadata": {},
   "outputs": [
    {
     "name": "stdout",
     "output_type": "stream",
     "text": [
      "p-valor:0.47 -A hipótese nula não pode ser rejeitada - não é possível afirmar que os dados não são iguais\n"
     ]
    }
   ],
   "source": [
    "calcula_wilcoxon(beta_amostral,beta_ajustado)"
   ]
  },
  {
   "cell_type": "code",
   "execution_count": 53,
   "metadata": {},
   "outputs": [
    {
     "name": "stdout",
     "output_type": "stream",
     "text": [
      "p-valor:0.13 -A hipótese nula não pode ser rejeitada - não é possível afirmar que os dados não são iguais\n"
     ]
    }
   ],
   "source": [
    "calcula_mannwhitneyu(beta_amostral,beta_ajustado)"
   ]
  },
  {
   "cell_type": "code",
   "execution_count": null,
   "metadata": {},
   "outputs": [],
   "source": []
  }
 ],
 "metadata": {
  "colab": {
   "provenance": []
  },
  "kernelspec": {
   "display_name": "Python 3",
   "language": "python",
   "name": "python3"
  },
  "language_info": {
   "codemirror_mode": {
    "name": "ipython",
    "version": 3
   },
   "file_extension": ".py",
   "mimetype": "text/x-python",
   "name": "python",
   "nbconvert_exporter": "python",
   "pygments_lexer": "ipython3",
   "version": "3.7.1"
  }
 },
 "nbformat": 4,
 "nbformat_minor": 1
}
